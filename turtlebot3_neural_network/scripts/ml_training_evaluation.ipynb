{
 "cells": [
  {
   "cell_type": "markdown",
   "id": "041b8d00",
   "metadata": {},
   "source": [
    "# Machine Learning and Data Analysis\n",
    "\n",
    "### Developed by Jerin Joy and Koushikmani Maskalmatti Lakshman under the guidance of Prof. Luca Oneto.\n",
    "\n",
    "### Project - Obstacle avoidance using Machine Learning algorithm in ROS.\n",
    "\n",
    "Description of the Project:\n",
    "The Turtlebot robot is a popular platform for robotics research and education. With its sensors, cameras, and actuators, it provides a great platform for testing and developing algorithms for robot navigation and control. One of the key challenges in robotics is obstacle avoidance, which involves navigating in an environment with unknown obstacles and avoiding collisions. This project aims to address this challenge by using machine learning algorithms to train the Turtlebot robot to avoid obstacles.\n",
    "\n",
    "To implement obstacle avoidance, we start by collecting data using the Turtlebot's laser range finder. This sensor measures the distance to obstacles in the environment and provides a 2D scan of the surroundings. We use this data to train various machine learning classifiers such as neural networks, random forest, KNN, and decision trees. These classifiers learn to classify the environment into obstacle and non-obstacle regions based on the laser scan data. Once the classifiers are trained, we use them to implement obstacle avoidance in the Turtlebot robot. This allows the robot to navigate autonomously in an unknown environment, avoiding obstacles in its path. By using machine learning, we can create intelligent robots that can adapt to different environments and tasks, making them more useful and versatile.\n",
    "\n",
    "## Headers\n",
    "Headers that are used in the entire package are given below."
   ]
  },
  {
   "cell_type": "code",
   "execution_count": 100,
   "id": "b24820b8",
   "metadata": {
    "ExecuteTime": {
     "end_time": "2023-02-27T23:46:17.569025Z",
     "start_time": "2023-02-27T23:46:17.551820Z"
    }
   },
   "outputs": [],
   "source": [
    "%%capture\n",
    "\n",
    "import tensorflow as tf\n",
    "import numpy as np\n",
    "import pandas as pd\n",
    "import matplotlib.pyplot as plt\n",
    "import joblib\n",
    "import seaborn as sns\n",
    "from sklearn.utils import shuffle\n",
    "from sklearn.ensemble import RandomForestClassifier\n",
    "from sklearn.neighbors import KNeighborsClassifier\n",
    "from sklearn.naive_bayes import GaussianNB\n",
    "from sklearn.linear_model import LogisticRegression\n",
    "from sklearn.tree import DecisionTreeClassifier\n",
    "from sklearn.model_selection import train_test_split, cross_val_score, GridSearchCV, learning_curve, validation_curve, KFold\n",
    "from sklearn.metrics import accuracy_score, precision_score, recall_score, f1_score, multilabel_confusion_matrix, roc_auc_score, roc_curve, precision_recall_curve, confusion_matrix, ConfusionMatrixDisplay\n",
    "from tensorflow.python.keras.metrics import Accuracy, Precision, Recall, AUC, CategoricalAccuracy"
   ]
  },
  {
   "cell_type": "markdown",
   "id": "83927164",
   "metadata": {},
   "source": [
    "This code reads data from a CSV file named \"data.csv\" and replaces all infinite values with 3.5. The data contains 120 features with column names starting with \"x_\" and two additional columns named \"v\" and \"w\".\n",
    "\n",
    "After reading the data, some data cleaning operations are performed. Values of \"v\" and \"w\" columns are modified such that if \"v\" has a value of 0.3, it is replaced with 1 and if \"w\" has a value of 0.3, it is replaced with 1. Conversely, if \"v\" has a value of 0.3, the corresponding \"w\" value is set to 0, and if \"w\" has a value of 0.3, the corresponding \"v\" value is set to 0."
   ]
  },
  {
   "cell_type": "code",
   "execution_count": 3,
   "id": "18947e57",
   "metadata": {
    "ExecuteTime": {
     "end_time": "2023-02-27T20:54:04.679790Z",
     "start_time": "2023-02-27T20:54:03.411035Z"
    }
   },
   "outputs": [
    {
     "name": "stdout",
     "output_type": "stream",
     "text": [
      "Raw Data\n",
      "        x_0       x_1       x_2       x_3       x_4       x_5       x_6  \\\n",
      "0  1.757790  1.756795  1.747663  1.767158  1.765271  1.779900  1.762095   \n",
      "1  1.748229  1.764128  1.739702  1.747016  1.753816  1.740524  1.761002   \n",
      "2  1.715352  1.709566  1.709361  1.717771  1.728112  1.720871  1.724907   \n",
      "3  1.670870  1.674756  1.662285  1.673070  1.666844  1.656339  1.689519   \n",
      "4  1.617006  1.601120  1.595978  1.622197  1.605366  1.617249  1.617327   \n",
      "\n",
      "        x_7       x_8       x_9  ...     x_112     x_113     x_114     x_115  \\\n",
      "0  1.772469  1.754512  1.766275  ...  1.790406  1.763388  1.749376  1.749038   \n",
      "1  1.769007  1.759623  1.780307  ...  1.745286  1.774112  1.745656  1.754775   \n",
      "2  1.712213  1.739454  1.727565  ...  1.719604  1.711219  1.714881  1.732098   \n",
      "3  1.667948  1.683522  1.694583  ...  1.672852  1.687144  1.668343  1.683015   \n",
      "4  1.624864  1.617897  1.622327  ...  1.615128  1.621961  1.622301  1.580144   \n",
      "\n",
      "      x_116     x_117     x_118     x_119    v    w  \n",
      "0  1.772523  1.749805  1.752744  1.754877  1.0  0.0  \n",
      "1  1.748415  1.760626  1.751352  1.743723  1.0  0.0  \n",
      "2  1.723086  1.744301  1.709556  1.714816  1.0  0.0  \n",
      "3  1.659274  1.674570  1.669172  1.636172  1.0  0.0  \n",
      "4  1.611319  1.604473  1.605502  1.609501  1.0  0.0  \n",
      "\n",
      "[5 rows x 122 columns]\n",
      "Number of Data Entries: 75998\n",
      "Number of v Entries: 25124\n",
      "Number of w Entries: 50874\n"
     ]
    }
   ],
   "source": [
    "# Read Data\n",
    "columns = []\n",
    "for i in range(120):\n",
    "    columns.append(f'x_{i}')\n",
    "\n",
    "columns = columns + ['v', 'w']\n",
    "\n",
    "df = pd.read_csv('data.csv')\n",
    "df.replace([np.inf], 3.5, inplace=True)\n",
    "\n",
    "df.columns = columns\n",
    "df.loc[df['v'] == 0.3, \"v\"] = 1\n",
    "df.loc[df['v'] == 0.3, \"w\"] = 0\n",
    "df.loc[df['w'] == 0.3, \"v\"] = 0\n",
    "df.loc[df['w'] == 0.3, \"w\"] = 1\n",
    "\n",
    "print(\"Raw Data\")\n",
    "print(df.head(5))\n",
    "print(f\"Number of Data Entries: {len(df)}\")\n",
    "print(f\"Number of v Entries: {len(df[df['v'] == 1])}\")\n",
    "print(f\"Number of w Entries: {len(df[df['w'] == 1])}\")"
   ]
  },
  {
   "cell_type": "code",
   "execution_count": 4,
   "id": "12a0653a",
   "metadata": {
    "ExecuteTime": {
     "end_time": "2023-02-27T20:54:10.286090Z",
     "start_time": "2023-02-27T20:54:10.080751Z"
    }
   },
   "outputs": [
    {
     "name": "stdout",
     "output_type": "stream",
     "text": [
      "Prepared Data\n",
      "y_train Dataframe\n",
      "\n",
      "         v    w\n",
      "43863  0.0  1.0\n",
      "67351  0.0  1.0\n",
      "55481  1.0  0.0\n",
      "10724  0.0  1.0\n",
      "57773  1.0  0.0\n",
      "X_train Dataframe\n",
      "\n",
      "            x_0       x_1       x_2       x_3       x_4       x_5       x_6  \\\n",
      "43863  2.441709  2.483620  2.541319  2.588968  2.638444  2.678917  2.739196   \n",
      "67351  1.774071  2.015963  2.386438  2.916492  3.418988  3.408353  3.426925   \n",
      "55481  0.425189  0.415537  0.424897  0.406838  0.397739  0.410233  0.378173   \n",
      "10724  3.500000  3.500000  3.500000  2.539820  2.521772  2.551445  3.500000   \n",
      "57773  3.306483  3.205808  3.119955  3.023582  2.953182  1.261921  1.209744   \n",
      "\n",
      "            x_7       x_8       x_9  ...     x_110     x_111     x_112  \\\n",
      "43863  2.807427  2.856613  2.929956  ...  2.140733  2.176810  2.217819   \n",
      "67351  3.399066  3.416911  3.429713  ...  0.805999  0.863443  0.941659   \n",
      "55481  0.380399  0.380356  0.391224  ...  0.488518  0.476274  0.461388   \n",
      "10724  3.500000  3.500000  3.500000  ...  3.280444  3.298074  1.332962   \n",
      "57773  1.188447  1.172024  1.159635  ...  3.084890  3.119122  3.121276   \n",
      "\n",
      "          x_113     x_114     x_115     x_116     x_117     x_118     x_119  \n",
      "43863  2.234427  2.266659  2.287517  2.338993  2.361879  2.414171  2.450933  \n",
      "67351  1.001920  1.067414  1.138285  1.252944  1.392805  1.553691  1.791087  \n",
      "55481  0.472088  0.455989  0.450969  0.444226  0.427984  0.414194  0.442059  \n",
      "10724  1.302534  1.284636  1.289843  1.303738  1.313215  3.500000  3.500000  \n",
      "57773  3.150305  3.149606  3.176319  3.225228  3.241134  3.268587  3.286472  \n",
      "\n",
      "[5 rows x 120 columns]\n"
     ]
    }
   ],
   "source": [
    "# Split into features and labels\n",
    "X = df.drop(['v', 'w'], axis=1)\n",
    "y = df[['v', 'w']]\n",
    "X_train, X_test, y_train, y_test = train_test_split(X, y, test_size=0.2, random_state=42)\n",
    "\n",
    "\n",
    "print(\"Prepared Data\")\n",
    "print(\"y_train Dataframe\\n\")\n",
    "print(y_train.head(5))\n",
    "\n",
    "print(\"X_train Dataframe\\n\")\n",
    "print(X_train.head(5))\n"
   ]
  },
  {
   "cell_type": "markdown",
   "id": "e2ec828c",
   "metadata": {},
   "source": [
    "### Classifiers used in the project\n",
    "\n",
    "1. Decision Tree Classifier\n",
    "2. Random Forest Classifier\n",
    "3. K-Nearest Neighbors Classifier\n",
    "4. Tensorflow Neural Network Classifier"
   ]
  },
  {
   "cell_type": "code",
   "execution_count": 118,
   "id": "c0750ab0",
   "metadata": {
    "ExecuteTime": {
     "end_time": "2023-02-28T18:15:42.731223Z",
     "start_time": "2023-02-28T18:15:42.089113Z"
    }
   },
   "outputs": [],
   "source": [
    "# Decision Tree Classifier\n",
    "dt_model = DecisionTreeClassifier()\n",
    "\n",
    "# Random Forest Classifier\n",
    "rf_model = RandomForestClassifier()\n",
    "\n",
    "# K-Nearest Neighbors Classifier\n",
    "knn_model = KNeighborsClassifier()\n",
    "\n",
    "# Tensorflow Neural Network Classifier\n",
    "nn_model = tf.keras.models.Sequential([\n",
    "    tf.keras.layers.Dense(100, activation='relu'),\n",
    "    tf.keras.layers.Dense(2, activation='sigmoid')\n",
    "])\n",
    "\n",
    "nn_model.compile(loss='binary_crossentropy', optimizer='adam', metrics=['accuracy']);"
   ]
  },
  {
   "cell_type": "markdown",
   "id": "708ae918",
   "metadata": {},
   "source": [
    "This code section defines a function called \"evaluate_model\" that takes in three parameters: a machine learning model, training data (X_train), and target data (y_train). The function uses k-fold cross-validation to evaluate the performance of the machine learning model on the training data. It splits the data into k folds, fits the model on k-1 folds, and evaluates the model on the remaining fold. This process is repeated for each of the k folds. The function returns the mean accuracy, precision, recall, ROC AUC, and F1 scores across all folds, as well as the confusion matrix for each fold. The function can handle both scikit-learn and TensorFlow Keras models, but uses different methods to compute scores and confusion matrices depending on the type of model."
   ]
  },
  {
   "cell_type": "code",
   "execution_count": 120,
   "id": "8eaa49ea",
   "metadata": {
    "ExecuteTime": {
     "end_time": "2023-02-28T18:26:41.307750Z",
     "start_time": "2023-02-28T18:26:41.292785Z"
    }
   },
   "outputs": [],
   "source": [
    "# Define a function to evaluate a model using cross-validation and k-fold\n",
    "def evaluate_model(model, X_train, y_train):\n",
    "    # Define number of folds\n",
    "    k = 5\n",
    "    \n",
    "    # Create a KFold object\n",
    "    kf = KFold(n_splits=k)\n",
    "    \n",
    "    # Initialize lists to store scores for each fold\n",
    "    accuracy_scores = []\n",
    "    precision_scores = []\n",
    "    recall_scores = []\n",
    "    roc_auc_scores = []\n",
    "    f1_scores = []\n",
    "    cm_list = []\n",
    "    \n",
    "    # Loop over each fold\n",
    "    for train_index, test_index in kf.split(X_train):\n",
    "        # Split data into train and test sets for this fold\n",
    "        X_train_fold = X_train.iloc[train_index]\n",
    "        y_train_fold = y_train.iloc[train_index]\n",
    "        X_test_fold = X_train.iloc[test_index]\n",
    "        y_test_fold = y_train.iloc[test_index]\n",
    "        \n",
    "        # Convert data into tensors if model is TensorFlow Keras model\n",
    "        if isinstance(model, tf.keras.models.Sequential):\n",
    "            X_train_fold = tf.convert_to_tensor(X_train_fold)\n",
    "            y_train_fold = tf.convert_to_tensor(y_train_fold)\n",
    "            X_test_fold = tf.convert_to_tensor(X_test_fold)\n",
    "            y_test_fold = tf.convert_to_tensor(y_test_fold)\n",
    "        \n",
    "        # Fit model on train set\n",
    "        model.fit(X_train_fold,y_train_fold)\n",
    "        \n",
    "        # Predict on test set\n",
    "        y_pred_fold = model.predict(X_test_fold)\n",
    "        \n",
    "        # Compute scores for this fold if model is TensorFlow Keras model\n",
    "        if isinstance(model, tf.keras.models.Sequential):\n",
    "            nn_accuracy = tf.keras.metrics.CategoricalAccuracy()(y_test_fold, y_pred_fold)\n",
    "            nn_precision = tf.keras.metrics.Precision()(y_test_fold, y_pred_fold)\n",
    "            nn_recall = tf.keras.metrics.Recall()(y_test_fold, y_pred_fold)\n",
    "            nn_roc = tf.keras.metrics.AUC()(y_test_fold, y_pred_fold)\n",
    "            nn_f1 = 2 * ((nn_precision * nn_recall) / (nn_precision + nn_recall + 1e-10))\n",
    "            accuracy_scores.append(nn_accuracy)\n",
    "            precision_scores.append(nn_precision)\n",
    "            recall_scores.append(nn_recall)\n",
    "            roc_auc_scores.append(nn_roc)\n",
    "            f1_scores.append(nn_f1)\n",
    "            \n",
    "            # Compute confusion matrix for this fold if model is TensorFlow Keras model  \n",
    "            y_pred_classes = tf.argmax(y_pred_fold, axis=1)\n",
    "            y_test_classes = tf.argmax(y_test_fold, axis=1)\n",
    "            cm = tf.math.confusion_matrix(y_test_classes, y_pred_classes)  \n",
    "            cm_list.append(np.array(cm, dtype=int))\n",
    "            continue\n",
    "            \n",
    "        # Compute scores for this fold\n",
    "        accuracy_scores.append(accuracy_score(y_test_fold,y_pred_fold))\n",
    "        precision_scores.append(precision_score(y_test_fold,y_pred_fold, average = 'weighted'))\n",
    "        recall_scores.append(recall_score(y_test_fold,y_pred_fold, average = 'weighted'))\n",
    "        roc_auc_scores.append(roc_auc_score(y_test_fold,y_pred_fold, average = 'weighted'))\n",
    "        f1_scores.append(f1_score(y_test_fold,y_pred_fold, average = 'weighted'))\n",
    "        \n",
    "        # Compute confusion matrix for this fold   \n",
    "        cm = confusion_matrix(y_test_fold.values.argmax(axis=1),y_pred_fold.argmax(axis=1))   \n",
    "        cm_list.append(cm) \n",
    "    \n",
    "    # Return the mean scores across all folds\n",
    "    return np.mean(accuracy_scores), np.mean(precision_scores), np.mean(recall_scores), np.mean(roc_auc_scores), np.mean(f1_scores), cm_list"
   ]
  },
  {
   "cell_type": "code",
   "execution_count": 121,
   "id": "59d6aa15",
   "metadata": {
    "ExecuteTime": {
     "end_time": "2023-02-28T18:35:52.320052Z",
     "start_time": "2023-02-28T18:26:47.639634Z"
    }
   },
   "outputs": [
    {
     "name": "stdout",
     "output_type": "stream",
     "text": [
      "1900/1900 [==============================] - 5s 2ms/step - loss: 0.4897 - accuracy: 0.7551\n",
      "475/475 [==============================] - 1s 1ms/step\n",
      "1900/1900 [==============================] - 4s 2ms/step - loss: 0.4274 - accuracy: 0.7963\n",
      "475/475 [==============================] - 1s 1ms/step\n",
      "1900/1900 [==============================] - 4s 2ms/step - loss: 0.4000 - accuracy: 0.8164\n",
      "475/475 [==============================] - 1s 1ms/step\n",
      "1900/1900 [==============================] - 4s 2ms/step - loss: 0.3971 - accuracy: 0.8184\n",
      "475/475 [==============================] - 1s 1ms/step\n",
      "1900/1900 [==============================] - 4s 2ms/step - loss: 0.3843 - accuracy: 0.8235\n",
      "475/475 [==============================] - 1s 1ms/step\n"
     ]
    }
   ],
   "source": [
    "# Evaluate each model using cross-validation and k-fold\n",
    "dt_accuracy, dt_precision, dt_recall, dt_roc_auc, dt_f1, dt_cm = evaluate_model(dt_model,X,y)\n",
    "rf_accuracy, rf_precision, rf_recall, rf_roc_auc, rf_f1, rf_cm = evaluate_model(rf_model,X,y)\n",
    "knn_accuracy, knn_precision, knn_recall, knn_roc_auc, knn_f1, knn_cm = evaluate_model(knn_model,X,y)\n",
    "nn_accuracy, nn_precision, nn_recall, nn_roc_auc, nn_f1, nn_cm = evaluate_model(nn_model,X,y)"
   ]
  },
  {
   "cell_type": "code",
   "execution_count": 122,
   "id": "ac69ceab",
   "metadata": {
    "ExecuteTime": {
     "end_time": "2023-02-28T18:59:54.045683Z",
     "start_time": "2023-02-28T18:59:54.033877Z"
    }
   },
   "outputs": [],
   "source": [
    "# Open a file in write mode\n",
    "f = open('results.txt', 'w')\n",
    "\n",
    "# Print the results to the file\n",
    "print(\"Decision Tree: Accuracy: {}, Precision: {}, Recall: {}, ROC AUC: {}, F1: {}\".format(dt_accuracy,\n",
    "                                                                                           dt_precision,\n",
    "                                                                                           dt_recall,\n",
    "                                                                                           dt_roc_auc,\n",
    "                                                                                           dt_f1), file=f)\n",
    "\n",
    "print(\"Random Forest: Accuracy: {}, Precision: {}, Recall: {}, ROC AUC: {}, F1: {}\".format(rf_accuracy,\n",
    "                                                                                           rf_precision,\n",
    "                                                                                           rf_recall,\n",
    "                                                                                           rf_roc_auc,\n",
    "                                                                                           rf_f1), file=f)\n",
    "\n",
    "print(\"KNN: Accuracy: {}, Precision: {}, Recall: {}, ROC AUC: {}, F1: {}\".format(knn_accuracy,\n",
    "                                                                                 knn_precision,\n",
    "                                                                                 knn_recall,\n",
    "                                                                                 knn_roc_auc,\n",
    "                                                                                 knn_f1), file=f)\n",
    "\n",
    "print(\"Neural Network: Accuracy: {}, Precision: {}, Recall: {}, ROC AUC: {}, F1: {}\".format(nn_accuracy,\n",
    "                                                                                            nn_precision,\n",
    "                                                                                            nn_recall,\n",
    "                                                                                            nn_roc_auc,\n",
    "                                                                                            nn_f1), file=f)\n",
    "# Close the file\n",
    "\n",
    "f.close()"
   ]
  },
  {
   "cell_type": "markdown",
   "id": "fae395b9",
   "metadata": {},
   "source": [
    "Plots the comparison charts for Accuracy, Precision, Recall, F1 Score and ROC-AUC of the four classifiers."
   ]
  },
  {
   "cell_type": "code",
   "execution_count": 123,
   "id": "8dbed14b",
   "metadata": {
    "ExecuteTime": {
     "end_time": "2023-02-28T18:59:57.798581Z",
     "start_time": "2023-02-28T18:59:57.197262Z"
    },
    "scrolled": false
   },
   "outputs": [
    {
     "data": {
      "image/png": "[encoded data removed]",
      "text/plain": [
       "<Figure size 1440x936 with 5 Axes>"
      ]
     },
     "metadata": {
      "needs_background": "light"
     },
     "output_type": "display_data"
    }
   ],
   "source": [
    "# Define model names and corresponding metrics\n",
    "model_names = ['Random Forest', 'KNN', 'Decision Tree', 'Neural Network']\n",
    "metrics = ['Accuracy', 'Precision', 'Recall', 'F1 Score', 'ROC AUC']\n",
    "\n",
    "# Define scores for each model and metric\n",
    "accuracy_scores = [rf_accuracy, knn_accuracy, dt_accuracy, nn_accuracy]\n",
    "precision_scores = [rf_precision, knn_precision, dt_precision, nn_precision]\n",
    "recall_scores = [rf_recall, knn_recall, dt_recall, nn_recall]\n",
    "f1_scores = [rf_f1, knn_f1, dt_f1, nn_f1]\n",
    "roc_auc_scores = [rf_roc_auc, knn_roc_auc, dt_roc_auc, nn_roc_auc]\n",
    "\n",
    "# Define colors for each metric\n",
    "colors = [(0.2, 0.4, 0.6, 0.8), (0.3, 0.5, 0.7, 0.8), (0.4, 0.6, 0.8, 0.8), (0.5, 0.7, 0.9, 0.8)]\n",
    "\n",
    "# Define a list of lists for the scores\n",
    "scores = [accuracy_scores, precision_scores, recall_scores, f1_scores, roc_auc_scores]\n",
    "\n",
    "# Create a figure with 5 subplots arranged in 2 rows and 3 columns\n",
    "fig = plt.figure(figsize=(20 ,13))\n",
    "fig.suptitle('Model Comparison', size = '17')\n",
    "\n",
    "# Generate plots for each metric\n",
    "for i ,metric in enumerate(metrics):\n",
    "    # Get the scores for the current metric\n",
    "    metric_scores = scores[i]\n",
    "\n",
    "    # Calculate the average score for each model\n",
    "    model_scores = [np.mean(metric_scores[j::len(model_names)]) for j in range(len(model_names))]\n",
    "\n",
    "    # Create a subplot for each metric\n",
    "    ax = fig.add_subplot(2 ,3 ,i + 1)\n",
    "    ax.bar(model_names ,model_scores ,color=colors)\n",
    "    ax.set_ylim(0 ,1)\n",
    "    ax.set_title(metric)\n",
    "    ax.set_ylabel('Score')"
   ]
  },
  {
   "cell_type": "markdown",
   "id": "79e3de8b",
   "metadata": {},
   "source": [
    "Plots the Mean Confusion Matrix for the four classifiers."
   ]
  },
  {
   "cell_type": "code",
   "execution_count": 124,
   "id": "bb165cdf",
   "metadata": {
    "ExecuteTime": {
     "end_time": "2023-02-28T19:00:38.000703Z",
     "start_time": "2023-02-28T19:00:29.293115Z"
    }
   },
   "outputs": [
    {
     "data": {
      "image/png": "[encoded data removed]",
      "text/plain": [
       "<Figure size 432x288 with 2 Axes>"
      ]
     },
     "metadata": {
      "needs_background": "light"
     },
     "output_type": "display_data"
    },
    {
     "data": {
      "image/png": "[encoded data removed]",
      "text/plain": [
       "<Figure size 432x288 with 2 Axes>"
      ]
     },
     "metadata": {
      "needs_background": "light"
     },
     "output_type": "display_data"
    },
    {
     "data": {
      "image/png": "[encoded data removed]",
      "text/plain": [
       "<Figure size 432x288 with 2 Axes>"
      ]
     },
     "metadata": {
      "needs_background": "light"
     },
     "output_type": "display_data"
    },
    {
     "data": {
      "image/png": "[encoded data removed]",
      "text/plain": [
       "<Figure size 432x288 with 2 Axes>"
      ]
     },
     "metadata": {
      "needs_background": "light"
     },
     "output_type": "display_data"
    }
   ],
   "source": [
    "def plot_confusion_matrix(conf_matrices, model_name):\n",
    "    n_classes = 2\n",
    "    # Compute the mean confusion matrix\n",
    "    mean_cm = np.mean(conf_matrices, axis=0)\n",
    "\n",
    "    # Plot the mean confusion matrix with values\n",
    "    fig, ax = plt.subplots()\n",
    "    im = ax.imshow(mean_cm, cmap=plt.cm.Blues)\n",
    "    ax.set_title(f'{model_name} Confusion Matrix (Mean)')\n",
    "    plt.colorbar(im)\n",
    "    ax.set_xlabel('Predicted Label')\n",
    "    ax.set_ylabel('True Label')\n",
    "    ax.set_xticks([0, 1])\n",
    "    ax.set_yticks([0, 1])\n",
    "    ax.set_xticklabels(['Negative', 'Positive'])\n",
    "    ax.set_yticklabels(['Negative', 'Positive'])\n",
    "\n",
    "    # Display the mean values in each grid\n",
    "    for i in range(n_classes):\n",
    "        for j in range(n_classes):\n",
    "            # Set text color based on background brightness\n",
    "            brightness = np.mean(im.cmap(im.norm([mean_cm[i, j]])))\n",
    "            text_color = 'white' if brightness < 0.5 else 'black' # Check brightness of the cell color\n",
    "            text = ax.text(j, i, mean_cm[i, j], ha='center', va='center', color=text_color)\n",
    "\n",
    "    fig.tight_layout(rect=[0, 0.03, 1, 0.95])\n",
    "    fig.savefig(f'confusion_matrix_{model_name.lower().replace(\" \", \"_\")}_mean.png')\n",
    "    plt.show()\n",
    "\n",
    "\n",
    "    \n",
    "\n",
    "\n",
    "# Plot the mean confusion matrix for the models.\n",
    "plot_confusion_matrix(rf_cm, \"Random Forest\")\n",
    "plot_confusion_matrix(knn_cm, \"KNN\")\n",
    "plot_confusion_matrix(dt_cm, \"Decision Tree\")\n",
    "plot_confusion_matrix(nn_cm, \"Neural Network\")\n"
   ]
  }
 ],
 "metadata": {
  "kernelspec": {
   "display_name": "Python 3 (ipykernel)",
   "language": "python",
   "name": "python3"
  },
  "language_info": {
   "codemirror_mode": {
    "name": "ipython",
    "version": 3
   },
   "file_extension": ".py",
   "mimetype": "text/x-python",
   "name": "python",
   "nbconvert_exporter": "python",
   "pygments_lexer": "ipython3",
   "version": "3.8.10"
  },
  "toc": {
   "base_numbering": 1,
   "nav_menu": {},
   "number_sections": true,
   "sideBar": true,
   "skip_h1_title": false,
   "title_cell": "Table of Contents",
   "title_sidebar": "Contents",
   "toc_cell": false,
   "toc_position": {},
   "toc_section_display": true,
   "toc_window_display": false
  },
  "varInspector": {
   "cols": {
    "lenName": 16,
    "lenType": 16,
    "lenVar": 40
   },
   "kernels_config": {
    "python": {
     "delete_cmd_postfix": "",
     "delete_cmd_prefix": "del ",
     "library": "var_list.py",
     "varRefreshCmd": "print(var_dic_list())"
    },
    "r": {
     "delete_cmd_postfix": ") ",
     "delete_cmd_prefix": "rm(",
     "library": "var_list.r",
     "varRefreshCmd": "cat(var_dic_list()) "
    }
   },
   "types_to_exclude": [
    "module",
    "function",
    "builtin_function_or_method",
    "instance",
    "_Feature"
   ],
   "window_display": false
  }
 },
 "nbformat": 4,
 "nbformat_minor": 5
}
